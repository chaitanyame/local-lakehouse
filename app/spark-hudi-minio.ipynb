{
 "cells": [
  {
   "cell_type": "code",
   "execution_count": 1,
   "id": "0ea9dc02-557a-457e-a121-9b990255e218",
   "metadata": {},
   "outputs": [
    {
     "name": "stdout",
     "output_type": "stream",
     "text": [
      "Python 3.11.4\n"
     ]
    }
   ],
   "source": [
    "!python --version"
   ]
  },
  {
   "cell_type": "code",
   "execution_count": 2,
   "id": "00554142-c172-4793-b636-f98e1b6aef57",
   "metadata": {},
   "outputs": [
    {
     "name": "stderr",
     "output_type": "stream",
     "text": [
      "Setting default log level to \"WARN\".\n",
      "To adjust logging level use sc.setLogLevel(newLevel). For SparkR, use setLogLevel(newLevel).\n",
      "24/10/02 17:06:16 WARN NativeCodeLoader: Unable to load native-hadoop library for your platform... using builtin-java classes where applicable\n"
     ]
    }
   ],
   "source": [
    "import findspark\n",
    "findspark.init()\n",
    "import pyspark\n",
    "from pyspark.sql import SparkSession\n",
    "import pyspark.sql.functions as f\n",
    "\n",
    "# Create SparkSession with Hudi configuration\n",
    "\n",
    "spark = SparkSession.builder \\\n",
    "    .appName(\"HudiJob\") \\\n",
    "    .config(\"spark.hadoop.fs.s3a.access.key\", \"minioadmin\") \\\n",
    "    .config(\"spark.hadoop.fs.s3a.secret.key\", \"minioadmin\") \\\n",
    "    .config(\"spark.hadoop.fs.s3a.endpoint\", \"http://minio:9000\") \\\n",
    "    .config(\"spark.hadoop.fs.s3a.path.style.access\", \"true\") \\\n",
    "    .config(\"spark.hadoop.fs.s3a.connection.ssl.enabled\", \"false\") \\\n",
    "    .config(\"spark.serializer\", \"org.apache.spark.serializer.KryoSerializer\") \\\n",
    "    .config(\"spark.sql.extensions\", \"org.apache.spark.sql.hudi.HoodieSparkSessionExtension\") \\\n",
    "    .config(\"spark.sql.catalog.spark_catalog\", \"org.apache.spark.sql.hudi.catalog.HoodieCatalog\") \\\n",
    "    .getOrCreate()"
   ]
  },
  {
   "cell_type": "code",
   "execution_count": 99,
   "id": "b139785b-6240-4baf-93e8-b5b8bb9d6118",
   "metadata": {},
   "outputs": [
    {
     "name": "stdout",
     "output_type": "stream",
     "text": [
      "+---------+---------+--------------------+--------+--------------+---------+----------+--------------+\n",
      "|InvoiceNo|StockCode|         Description|Quantity|   InvoiceDate|UnitPrice|CustomerID|       Country|\n",
      "+---------+---------+--------------------+--------+--------------+---------+----------+--------------+\n",
      "|   536365|   85123A|WHITE HANGING HEA...|       6|01/12/10 08:26|     2.55|     17850|United Kingdom|\n",
      "|   536365|    71053| WHITE METAL LANTERN|       6|01/12/10 08:26|     3.39|     17850|United Kingdom|\n",
      "|   536365|   84406B|CREAM CUPID HEART...|       8|01/12/10 08:26|     2.75|     17850|United Kingdom|\n",
      "|   536365|   84029G|KNITTED UNION FLA...|       6|01/12/10 08:26|     3.39|     17850|United Kingdom|\n",
      "|   536365|   84029E|RED WOOLLY HOTTIE...|       6|01/12/10 08:26|     3.39|     17850|United Kingdom|\n",
      "|   536365|    22752|SET 7 BABUSHKA NE...|       2|01/12/10 08:26|     7.65|     17850|United Kingdom|\n",
      "|   536365|    21730|GLASS STAR FROSTE...|       6|01/12/10 08:26|     4.25|     17850|United Kingdom|\n",
      "|   536366|    22633|HAND WARMER UNION...|       6|01/12/10 08:28|     1.85|     17850|United Kingdom|\n",
      "|   536366|    22632|HAND WARMER RED P...|       6|01/12/10 08:28|     1.85|     17850|United Kingdom|\n",
      "|   536367|    84879|ASSORTED COLOUR B...|      32|01/12/10 08:34|     1.69|     13047|United Kingdom|\n",
      "|   536367|    22745|POPPY'S PLAYHOUSE...|       6|01/12/10 08:34|      2.1|     13047|United Kingdom|\n",
      "|   536367|    22748|POPPY'S PLAYHOUSE...|       6|01/12/10 08:34|      2.1|     13047|United Kingdom|\n",
      "|   536367|    22749|FELTCRAFT PRINCES...|       8|01/12/10 08:34|     3.75|     13047|United Kingdom|\n",
      "|   536367|    22310|IVORY KNITTED MUG...|       6|01/12/10 08:34|     1.65|     13047|United Kingdom|\n",
      "|   536367|    84969|BOX OF 6 ASSORTED...|       6|01/12/10 08:34|     4.25|     13047|United Kingdom|\n",
      "|   536367|    22623|BOX OF VINTAGE JI...|       3|01/12/10 08:34|     4.95|     13047|United Kingdom|\n",
      "|   536367|    22622|BOX OF VINTAGE AL...|       2|01/12/10 08:34|     9.95|     13047|United Kingdom|\n",
      "|   536367|    21754|HOME BUILDING BLO...|       3|01/12/10 08:34|     5.95|     13047|United Kingdom|\n",
      "|   536367|    21755|LOVE BUILDING BLO...|       3|01/12/10 08:34|     5.95|     13047|United Kingdom|\n",
      "|   536367|    21777|RECIPE BOX WITH M...|       4|01/12/10 08:34|     7.95|     13047|United Kingdom|\n",
      "+---------+---------+--------------------+--------+--------------+---------+----------+--------------+\n",
      "only showing top 20 rows\n",
      "\n",
      "+---------+---------+--------------------+--------+--------------+---------+----------+--------------+-------------------+--------+\n",
      "|InvoiceNo|StockCode|         Description|Quantity|   InvoiceDate|UnitPrice|CustomerID|       Country|      InvoiceDateTS|RecordId|\n",
      "+---------+---------+--------------------+--------+--------------+---------+----------+--------------+-------------------+--------+\n",
      "|   536365|   85123A|WHITE HANGING HEA...|       6|01/12/10 08:26|     2.55|     17850|United Kingdom|2010-12-01 08:26:00|  651286|\n",
      "|   536365|    71053| WHITE METAL LANTERN|       6|01/12/10 08:26|     3.39|     17850|United Kingdom|2010-12-01 08:26:00|  278768|\n",
      "|   536365|   84406B|CREAM CUPID HEART...|       8|01/12/10 08:26|     2.75|     17850|United Kingdom|2010-12-01 08:26:00|  605890|\n",
      "|   536365|   84029G|KNITTED UNION FLA...|       6|01/12/10 08:26|     3.39|     17850|United Kingdom|2010-12-01 08:26:00|  740097|\n",
      "|   536365|   84029E|RED WOOLLY HOTTIE...|       6|01/12/10 08:26|     3.39|     17850|United Kingdom|2010-12-01 08:26:00|  469615|\n",
      "|   536365|    22752|SET 7 BABUSHKA NE...|       2|01/12/10 08:26|     7.65|     17850|United Kingdom|2010-12-01 08:26:00|  147214|\n",
      "|   536365|    21730|GLASS STAR FROSTE...|       6|01/12/10 08:26|     4.25|     17850|United Kingdom|2010-12-01 08:26:00|  677327|\n",
      "|   536366|    22633|HAND WARMER UNION...|       6|01/12/10 08:28|     1.85|     17850|United Kingdom|2010-12-01 08:28:00|  108241|\n",
      "|   536366|    22632|HAND WARMER RED P...|       6|01/12/10 08:28|     1.85|     17850|United Kingdom|2010-12-01 08:28:00|  815080|\n",
      "|   536367|    84879|ASSORTED COLOUR B...|      32|01/12/10 08:34|     1.69|     13047|United Kingdom|2010-12-01 08:34:00|  382674|\n",
      "|   536367|    22745|POPPY'S PLAYHOUSE...|       6|01/12/10 08:34|      2.1|     13047|United Kingdom|2010-12-01 08:34:00|  873694|\n",
      "|   536367|    22748|POPPY'S PLAYHOUSE...|       6|01/12/10 08:34|      2.1|     13047|United Kingdom|2010-12-01 08:34:00|  712664|\n",
      "|   536367|    22749|FELTCRAFT PRINCES...|       8|01/12/10 08:34|     3.75|     13047|United Kingdom|2010-12-01 08:34:00|  715073|\n",
      "|   536367|    22310|IVORY KNITTED MUG...|       6|01/12/10 08:34|     1.65|     13047|United Kingdom|2010-12-01 08:34:00|  692072|\n",
      "|   536367|    84969|BOX OF 6 ASSORTED...|       6|01/12/10 08:34|     4.25|     13047|United Kingdom|2010-12-01 08:34:00|  944824|\n",
      "|   536367|    22623|BOX OF VINTAGE JI...|       3|01/12/10 08:34|     4.95|     13047|United Kingdom|2010-12-01 08:34:00|  189863|\n",
      "|   536367|    22622|BOX OF VINTAGE AL...|       2|01/12/10 08:34|     9.95|     13047|United Kingdom|2010-12-01 08:34:00|  611810|\n",
      "|   536367|    21754|HOME BUILDING BLO...|       3|01/12/10 08:34|     5.95|     13047|United Kingdom|2010-12-01 08:34:00|  846019|\n",
      "|   536367|    21755|LOVE BUILDING BLO...|       3|01/12/10 08:34|     5.95|     13047|United Kingdom|2010-12-01 08:34:00|  264737|\n",
      "|   536367|    21777|RECIPE BOX WITH M...|       4|01/12/10 08:34|     7.95|     13047|United Kingdom|2010-12-01 08:34:00|  151852|\n",
      "+---------+---------+--------------------+--------+--------------+---------+----------+--------------+-------------------+--------+\n",
      "only showing top 20 rows\n",
      "\n",
      "+---------+---------+--------------------+--------+---------+----------+--------------+-------------------+--------+------------+-----------+\n",
      "|InvoiceNo|StockCode|         Description|Quantity|UnitPrice|CustomerID|       Country|      InvoiceDateTS|RecordId|InvoiceMonth|InvoiceYear|\n",
      "+---------+---------+--------------------+--------+---------+----------+--------------+-------------------+--------+------------+-----------+\n",
      "|   536365|   85123A|WHITE HANGING HEA...|       6|     2.55|     17850|United Kingdom|2010-12-01 08:26:00|  651286|          12|       2010|\n",
      "|   536365|    71053| WHITE METAL LANTERN|       6|     3.39|     17850|United Kingdom|2010-12-01 08:26:00|  278768|          12|       2010|\n",
      "|   536365|   84406B|CREAM CUPID HEART...|       8|     2.75|     17850|United Kingdom|2010-12-01 08:26:00|  605890|          12|       2010|\n",
      "|   536365|   84029G|KNITTED UNION FLA...|       6|     3.39|     17850|United Kingdom|2010-12-01 08:26:00|  740097|          12|       2010|\n",
      "|   536365|   84029E|RED WOOLLY HOTTIE...|       6|     3.39|     17850|United Kingdom|2010-12-01 08:26:00|  469615|          12|       2010|\n",
      "|   536365|    22752|SET 7 BABUSHKA NE...|       2|     7.65|     17850|United Kingdom|2010-12-01 08:26:00|  147214|          12|       2010|\n",
      "|   536365|    21730|GLASS STAR FROSTE...|       6|     4.25|     17850|United Kingdom|2010-12-01 08:26:00|  677327|          12|       2010|\n",
      "|   536366|    22633|HAND WARMER UNION...|       6|     1.85|     17850|United Kingdom|2010-12-01 08:28:00|  108241|          12|       2010|\n",
      "|   536366|    22632|HAND WARMER RED P...|       6|     1.85|     17850|United Kingdom|2010-12-01 08:28:00|  815080|          12|       2010|\n",
      "|   536367|    84879|ASSORTED COLOUR B...|      32|     1.69|     13047|United Kingdom|2010-12-01 08:34:00|  382674|          12|       2010|\n",
      "|   536367|    22745|POPPY'S PLAYHOUSE...|       6|      2.1|     13047|United Kingdom|2010-12-01 08:34:00|  873694|          12|       2010|\n",
      "|   536367|    22748|POPPY'S PLAYHOUSE...|       6|      2.1|     13047|United Kingdom|2010-12-01 08:34:00|  712664|          12|       2010|\n",
      "|   536367|    22749|FELTCRAFT PRINCES...|       8|     3.75|     13047|United Kingdom|2010-12-01 08:34:00|  715073|          12|       2010|\n",
      "|   536367|    22310|IVORY KNITTED MUG...|       6|     1.65|     13047|United Kingdom|2010-12-01 08:34:00|  692072|          12|       2010|\n",
      "|   536367|    84969|BOX OF 6 ASSORTED...|       6|     4.25|     13047|United Kingdom|2010-12-01 08:34:00|  944824|          12|       2010|\n",
      "|   536367|    22623|BOX OF VINTAGE JI...|       3|     4.95|     13047|United Kingdom|2010-12-01 08:34:00|  189863|          12|       2010|\n",
      "|   536367|    22622|BOX OF VINTAGE AL...|       2|     9.95|     13047|United Kingdom|2010-12-01 08:34:00|  611810|          12|       2010|\n",
      "|   536367|    21754|HOME BUILDING BLO...|       3|     5.95|     13047|United Kingdom|2010-12-01 08:34:00|  846019|          12|       2010|\n",
      "|   536367|    21755|LOVE BUILDING BLO...|       3|     5.95|     13047|United Kingdom|2010-12-01 08:34:00|  264737|          12|       2010|\n",
      "|   536367|    21777|RECIPE BOX WITH M...|       4|     7.95|     13047|United Kingdom|2010-12-01 08:34:00|  151852|          12|       2010|\n",
      "+---------+---------+--------------------+--------+---------+----------+--------------+-------------------+--------+------------+-----------+\n",
      "only showing top 20 rows\n",
      "\n"
     ]
    }
   ],
   "source": [
    "from pyspark.sql.functions import month, year\n",
    "from pyspark.sql.types import StructType, StructField, StringType, IntegerType, FloatType, TimestampType\n",
    "from pyspark.sql.functions import to_timestamp\n",
    "\n",
    "# Define the schema\n",
    "schema = StructType([\n",
    "    StructField(\"InvoiceNo\", StringType(), True),\n",
    "    StructField(\"StockCode\", StringType(), True),\n",
    "    StructField(\"Description\", StringType(), True),\n",
    "    StructField(\"Quantity\", IntegerType(), True),\n",
    "    StructField(\"InvoiceDate\", StringType(), True),  # Read as String first, to convert later\n",
    "    StructField(\"UnitPrice\", FloatType(), True),\n",
    "    StructField(\"CustomerID\", StringType(), True),\n",
    "    StructField(\"Country\", StringType(), True)\n",
    "])\n",
    "\n",
    "csv_file_path = \"file:///home/sparkuser/app/online_retail.csv\"\n",
    "df = spark.read.csv(csv_file_path, header=True, schema=schema)\n",
    "df.show()\n",
    "\n",
    "df_with_record_id = df.withColumn(\"InvoiceDateTS\", to_timestamp(df[\"InvoiceDate\"], \"dd/MM/yy HH:mm\")) \\\n",
    "        .withColumn(\"RecordId\",(F.floor(F.rand() * 900000) + 100000).cast(\"int\")) # Generates a number between 100000 and 999999\n",
    "\n",
    "df_with_record_id.show()\n",
    "\n",
    "df_with_partition_column = df_with_record_id.withColumn(\"InvoiceMonth\", month(df_with_record_id[\"InvoiceDateTS\"])) \\\n",
    "       .withColumn(\"InvoiceYear\", year(df_with_record_id[\"InvoiceDateTS\"])) \\\n",
    "       .drop(\"InvoiceDate\")  # Optionally drop original InvoiceDate\n",
    "\n",
    "\n",
    "df_with_partition_column.show()"
   ]
  },
  {
   "cell_type": "code",
   "execution_count": 101,
   "id": "425b518b-ff42-4dc3-91f6-e228669b515b",
   "metadata": {},
   "outputs": [
    {
     "name": "stdout",
     "output_type": "stream",
     "text": [
      "root\n",
      " |-- InvoiceNo: string (nullable = true)\n",
      " |-- StockCode: string (nullable = true)\n",
      " |-- Description: string (nullable = true)\n",
      " |-- Quantity: integer (nullable = true)\n",
      " |-- UnitPrice: float (nullable = true)\n",
      " |-- CustomerID: string (nullable = true)\n",
      " |-- Country: string (nullable = true)\n",
      " |-- InvoiceDateTS: timestamp (nullable = true)\n",
      " |-- RecordId: integer (nullable = true)\n",
      " |-- InvoiceMonth: integer (nullable = true)\n",
      " |-- InvoiceYear: integer (nullable = true)\n",
      "\n"
     ]
    }
   ],
   "source": [
    "# Print schema\n",
    "df_with_partition_column.printSchema()"
   ]
  },
  {
   "cell_type": "code",
   "execution_count": 103,
   "id": "fe9c1fa5-be9a-4b54-b451-9b2f5292889a",
   "metadata": {},
   "outputs": [
    {
     "name": "stderr",
     "output_type": "stream",
     "text": [
      "[Stage 266:============================>                            (4 + 4) / 8]\r"
     ]
    },
    {
     "name": "stdout",
     "output_type": "stream",
     "text": [
      "+-------+-----------------+------------------+--------------------+------------------+-----------------+------------------+-----------+------------------+-----------------+------------------+\n",
      "|summary|        InvoiceNo|         StockCode|         Description|          Quantity|        UnitPrice|        CustomerID|    Country|          RecordId|     InvoiceMonth|       InvoiceYear|\n",
      "+-------+-----------------+------------------+--------------------+------------------+-----------------+------------------+-----------+------------------+-----------------+------------------+\n",
      "|  count|           541909|            541909|              540455|            541909|           541909|            406829|     541909|            541909|           541909|            541909|\n",
      "|   mean| 559965.752026781|27623.240210938104|             20713.0|  9.55224954743324|4.611113614622466|15287.690570239585|       NULL| 550125.3881869465|7.553127923691985|2010.9216086095637|\n",
      "| stddev|13428.41728079611|16799.737628427665|                NULL|218.08115785023426|96.75985330031479|1713.6003033215954|       NULL|259760.69437565224|3.509055367918531| 0.268786743838141|\n",
      "|    min|           536365|             10002| 4 PURPLE FLOCK D...|            -80995|        -11062.06|             12346|  Australia|            100000|                1|              2010|\n",
      "|    max|          C581569|                 m|   wrongly sold sets|             80995|          38970.0|             18287|Unspecified|            999998|               12|              2011|\n",
      "+-------+-----------------+------------------+--------------------+------------------+-----------------+------------------+-----------+------------------+-----------------+------------------+\n",
      "\n"
     ]
    },
    {
     "name": "stderr",
     "output_type": "stream",
     "text": [
      "                                                                                \r"
     ]
    }
   ],
   "source": [
    "df_with_partition_column.describe().show()"
   ]
  },
  {
   "cell_type": "code",
   "execution_count": 107,
   "id": "086792ff-260b-4b5e-b246-d1e42d16e45e",
   "metadata": {},
   "outputs": [
    {
     "name": "stdout",
     "output_type": "stream",
     "text": [
      "+---------+---------+-----------+--------+---------+----------+-------+-------------+--------+------------+-----------+\n",
      "|InvoiceNo|StockCode|Description|Quantity|UnitPrice|CustomerID|Country|InvoiceDateTS|RecordId|InvoiceMonth|InvoiceYear|\n",
      "+---------+---------+-----------+--------+---------+----------+-------+-------------+--------+------------+-----------+\n",
      "+---------+---------+-----------+--------+---------+----------+-------+-------------+--------+------------+-----------+\n",
      "\n"
     ]
    }
   ],
   "source": [
    "df_filtered = df_with_partition_column.filter(df_with_partition_column[\"RecordId\"].isNull())\n",
    "df_filtered.show()"
   ]
  },
  {
   "cell_type": "code",
   "execution_count": 108,
   "id": "ba538694-d98b-4c94-a00e-32bb46c258ed",
   "metadata": {},
   "outputs": [
    {
     "name": "stdout",
     "output_type": "stream",
     "text": [
      "+---------+---------+-----------------------------------+--------+--------------+---------+----------+--------------+-------------------+--------+\n",
      "|InvoiceNo|StockCode|Description                        |Quantity|InvoiceDate   |UnitPrice|CustomerID|Country       |InvoiceDateTS      |RecordId|\n",
      "+---------+---------+-----------------------------------+--------+--------------+---------+----------+--------------+-------------------+--------+\n",
      "|536365   |85123A   |WHITE HANGING HEART T-LIGHT HOLDER |6       |01/12/10 08:26|2.55     |17850     |United Kingdom|2010-12-01 08:26:00|651286  |\n",
      "|536365   |71053    |WHITE METAL LANTERN                |6       |01/12/10 08:26|3.39     |17850     |United Kingdom|2010-12-01 08:26:00|278768  |\n",
      "|536365   |84406B   |CREAM CUPID HEARTS COAT HANGER     |8       |01/12/10 08:26|2.75     |17850     |United Kingdom|2010-12-01 08:26:00|605890  |\n",
      "|536365   |84029G   |KNITTED UNION FLAG HOT WATER BOTTLE|6       |01/12/10 08:26|3.39     |17850     |United Kingdom|2010-12-01 08:26:00|740097  |\n",
      "|536365   |84029E   |RED WOOLLY HOTTIE WHITE HEART.     |6       |01/12/10 08:26|3.39     |17850     |United Kingdom|2010-12-01 08:26:00|469615  |\n",
      "|536365   |22752    |SET 7 BABUSHKA NESTING BOXES       |2       |01/12/10 08:26|7.65     |17850     |United Kingdom|2010-12-01 08:26:00|147214  |\n",
      "|536365   |21730    |GLASS STAR FROSTED T-LIGHT HOLDER  |6       |01/12/10 08:26|4.25     |17850     |United Kingdom|2010-12-01 08:26:00|677327  |\n",
      "|536366   |22633    |HAND WARMER UNION JACK             |6       |01/12/10 08:28|1.85     |17850     |United Kingdom|2010-12-01 08:28:00|108241  |\n",
      "|536366   |22632    |HAND WARMER RED POLKA DOT          |6       |01/12/10 08:28|1.85     |17850     |United Kingdom|2010-12-01 08:28:00|815080  |\n",
      "|536367   |84879    |ASSORTED COLOUR BIRD ORNAMENT      |32      |01/12/10 08:34|1.69     |13047     |United Kingdom|2010-12-01 08:34:00|382674  |\n",
      "|536367   |22745    |POPPY'S PLAYHOUSE BEDROOM          |6       |01/12/10 08:34|2.1      |13047     |United Kingdom|2010-12-01 08:34:00|873694  |\n",
      "|536367   |22748    |POPPY'S PLAYHOUSE KITCHEN          |6       |01/12/10 08:34|2.1      |13047     |United Kingdom|2010-12-01 08:34:00|712664  |\n",
      "|536367   |22749    |FELTCRAFT PRINCESS CHARLOTTE DOLL  |8       |01/12/10 08:34|3.75     |13047     |United Kingdom|2010-12-01 08:34:00|715073  |\n",
      "|536367   |22310    |IVORY KNITTED MUG COSY             |6       |01/12/10 08:34|1.65     |13047     |United Kingdom|2010-12-01 08:34:00|692072  |\n",
      "|536367   |84969    |BOX OF 6 ASSORTED COLOUR TEASPOONS |6       |01/12/10 08:34|4.25     |13047     |United Kingdom|2010-12-01 08:34:00|944824  |\n",
      "|536367   |22623    |BOX OF VINTAGE JIGSAW BLOCKS       |3       |01/12/10 08:34|4.95     |13047     |United Kingdom|2010-12-01 08:34:00|189863  |\n",
      "|536367   |22622    |BOX OF VINTAGE ALPHABET BLOCKS     |2       |01/12/10 08:34|9.95     |13047     |United Kingdom|2010-12-01 08:34:00|611810  |\n",
      "|536367   |21754    |HOME BUILDING BLOCK WORD           |3       |01/12/10 08:34|5.95     |13047     |United Kingdom|2010-12-01 08:34:00|846019  |\n",
      "|536367   |21755    |LOVE BUILDING BLOCK WORD           |3       |01/12/10 08:34|5.95     |13047     |United Kingdom|2010-12-01 08:34:00|264737  |\n",
      "|536367   |21777    |RECIPE BOX WITH METAL HEART        |4       |01/12/10 08:34|7.95     |13047     |United Kingdom|2010-12-01 08:34:00|151852  |\n",
      "+---------+---------+-----------------------------------+--------+--------------+---------+----------+--------------+-------------------+--------+\n",
      "only showing top 20 rows\n",
      "\n",
      "+---------+---------+-----------+--------+-----------+---------+----------+-------+-------------+--------+\n",
      "|InvoiceNo|StockCode|Description|Quantity|InvoiceDate|UnitPrice|CustomerID|Country|InvoiceDateTS|RecordId|\n",
      "+---------+---------+-----------+--------+-----------+---------+----------+-------+-------------+--------+\n",
      "+---------+---------+-----------+--------+-----------+---------+----------+-------+-------------+--------+\n",
      "\n"
     ]
    }
   ],
   "source": [
    "df_filtered.count()\n",
    "df_with_record_id.show(truncate=False)  # Show full contents\n",
    "df_with_record_id.filter(df_with_record_id.RecordId.isNull() | (df_with_record_id.RecordId == \"\")).show()"
   ]
  },
  {
   "cell_type": "code",
   "execution_count": 110,
   "id": "2aab0ede-79c1-481c-989a-53eb8f4f3525",
   "metadata": {
    "scrolled": true
   },
   "outputs": [
    {
     "name": "stderr",
     "output_type": "stream",
     "text": [
      "24/10/02 21:35:39 WARN HoodieSparkSqlWriterInternal: hoodie table at s3a://hudi-minio-bucket/my_hudi_table already exists. Deleting existing data & overwriting with new data.\n",
      "24/10/02 21:35:55 WARN HoodieSparkSqlWriterInternal: Closing write client       \n"
     ]
    }
   ],
   "source": [
    "hudi_options = {\n",
    "    'hoodie.table.name':'my_hudi_table',\n",
    "    'hoodie.datasource.write.table.type': 'COPY_ON_WRITE',\n",
    "    'hoodie.datasource.write.recordkey.field': 'RecordId',\n",
    "    'hoodie.datasource.write.precombine.field': 'InvoiceDateTS',\n",
    "    'hoodie.datasource.write.partitionpath.field': 'InvoiceYear,InvoiceMonth',  # Consider changing this\n",
    "    'hoodie.datasource.write.table.name': 'my_hudi_table',\n",
    "    'hoodie.datasource.hive_sync.enable': 'false',\n",
    "    'hoodie.datasource.write.operation': 'upsert',\n",
    "}\n",
    "\n",
    "# Sample Hudi write code\n",
    "df_with_partition_column.write.format(\"hudi\").options(**hudi_options).mode(\"overwrite\").save(\"s3a://hudi-minio-bucket/my_hudi_table\")"
   ]
  },
  {
   "cell_type": "code",
   "execution_count": 123,
   "id": "a17c0bce-89de-48ff-9849-1dbac964a5df",
   "metadata": {},
   "outputs": [
    {
     "name": "stdout",
     "output_type": "stream",
     "text": [
      "root\n",
      " |-- _hoodie_commit_time: string (nullable = true)\n",
      " |-- _hoodie_commit_seqno: string (nullable = true)\n",
      " |-- _hoodie_record_key: string (nullable = true)\n",
      " |-- _hoodie_partition_path: string (nullable = true)\n",
      " |-- _hoodie_file_name: string (nullable = true)\n",
      " |-- InvoiceNo: string (nullable = true)\n",
      " |-- StockCode: string (nullable = true)\n",
      " |-- Description: string (nullable = true)\n",
      " |-- Quantity: integer (nullable = true)\n",
      " |-- UnitPrice: float (nullable = true)\n",
      " |-- CustomerID: string (nullable = true)\n",
      " |-- Country: string (nullable = true)\n",
      " |-- InvoiceDateTS: timestamp (nullable = true)\n",
      " |-- RecordId: integer (nullable = true)\n",
      " |-- InvoiceYear: integer (nullable = true)\n",
      " |-- InvoiceMonth: integer (nullable = true)\n",
      "\n",
      "+-------------------+----------------------+------------------+----------------------+----------------------------------------------------------------------------+---------+---------+---------------------------------+--------+---------+----------+--------------+-------------------+--------+-----------+------------+\n",
      "|_hoodie_commit_time|_hoodie_commit_seqno  |_hoodie_record_key|_hoodie_partition_path|_hoodie_file_name                                                           |InvoiceNo|StockCode|Description                      |Quantity|UnitPrice|CustomerID|Country       |InvoiceDateTS      |RecordId|InvoiceYear|InvoiceMonth|\n",
      "+-------------------+----------------------+------------------+----------------------+----------------------------------------------------------------------------+---------+---------+---------------------------------+--------+---------+----------+--------------+-------------------+--------+-----------+------------+\n",
      "|20241002213540104  |20241002213540104_9_0 |930415            |2011/11               |177c579a-0ae2-445a-afd5-e5f2029c7564-0_9-317-66116_20241002213540104.parquet|574343   |23144    |ZINC T-LIGHT HOLDER STARS SMALL  |12      |0.83     |12576     |Poland        |2011-11-04 10:11:00|930415  |2011       |11          |\n",
      "|20241002213540104  |20241002213540104_9_1 |348845            |2011/11               |177c579a-0ae2-445a-afd5-e5f2029c7564-0_9-317-66116_20241002213540104.parquet|577256   |22865    |HAND WARMER OWL DESIGN           |12      |2.1      |15530     |United Kingdom|2011-11-18 12:25:00|348845  |2011       |11          |\n",
      "|20241002213540104  |20241002213540104_9_2 |111072            |2011/11               |177c579a-0ae2-445a-afd5-e5f2029c7564-0_9-317-66116_20241002213540104.parquet|578022   |22607    |WOODEN ROUNDERS GARDEN SET       |1       |9.95     |17371     |United Kingdom|2011-11-22 13:25:00|111072  |2011       |11          |\n",
      "|20241002213540104  |20241002213540104_9_3 |909084            |2011/11               |177c579a-0ae2-445a-afd5-e5f2029c7564-0_9-317-66116_20241002213540104.parquet|575477   |23531    |WALL ART BIG LOVE                |1       |14.13    |NULL      |United Kingdom|2011-11-09 16:14:00|909084  |2011       |11          |\n",
      "|20241002213540104  |20241002213540104_9_4 |266565            |2011/11               |177c579a-0ae2-445a-afd5-e5f2029c7564-0_9-317-66116_20241002213540104.parquet|578255   |21985    |PACK OF 12 HEARTS DESIGN TISSUES |5       |0.39     |14675     |United Kingdom|2011-11-23 12:58:00|266565  |2011       |11          |\n",
      "|20241002213540104  |20241002213540104_9_5 |593650            |2011/11               |177c579a-0ae2-445a-afd5-e5f2029c7564-0_9-317-66116_20241002213540104.parquet|576246   |22428    |ENAMEL FIRE BUCKET CREAM         |2       |6.95     |17566     |United Kingdom|2011-11-14 13:42:00|593650  |2011       |11          |\n",
      "|20241002213540104  |20241002213540104_9_6 |140953            |2011/11               |177c579a-0ae2-445a-afd5-e5f2029c7564-0_9-317-66116_20241002213540104.parquet|574871   |22114    |HOT WATER BOTTLE TEA AND SYMPATHY|1       |4.25     |14527     |United Kingdom|2011-11-07 12:56:00|140953  |2011       |11          |\n",
      "|20241002213540104  |20241002213540104_9_7 |223445            |2011/11               |177c579a-0ae2-445a-afd5-e5f2029c7564-0_9-317-66116_20241002213540104.parquet|576867   |47566    |PARTY BUNTING                    |4       |4.95     |13012     |United Kingdom|2011-11-16 16:18:00|223445  |2011       |11          |\n",
      "|20241002213540104  |20241002213540104_9_8 |724517            |2011/11               |177c579a-0ae2-445a-afd5-e5f2029c7564-0_9-317-66116_20241002213540104.parquet|577507   |22630    |DOLLY GIRL LUNCH BOX             |2       |1.95     |14710     |United Kingdom|2011-11-20 12:42:00|724517  |2011       |11          |\n",
      "|20241002213540104  |20241002213540104_9_9 |155036            |2011/11               |177c579a-0ae2-445a-afd5-e5f2029c7564-0_9-317-66116_20241002213540104.parquet|578950   |23084    |RABBIT NIGHT LIGHT               |1       |2.08     |17885     |United Kingdom|2011-11-27 14:40:00|155036  |2011       |11          |\n",
      "|20241002213540104  |20241002213540104_9_10|135706            |2011/11               |177c579a-0ae2-445a-afd5-e5f2029c7564-0_9-317-66116_20241002213540104.parquet|575582   |85099B   |JUMBO BAG RED RETROSPOT          |1000    |1.79     |16986     |United Kingdom|2011-11-10 11:55:00|135706  |2011       |11          |\n",
      "|20241002213540104  |20241002213540104_9_11|951274            |2011/11               |177c579a-0ae2-445a-afd5-e5f2029c7564-0_9-317-66116_20241002213540104.parquet|578667   |22139    |RETROSPOT TEA SET CERAMIC 11 PC  |2       |4.95     |15514     |United Kingdom|2011-11-24 17:10:00|951274  |2011       |11          |\n",
      "|20241002213540104  |20241002213540104_9_12|584795            |2011/11               |177c579a-0ae2-445a-afd5-e5f2029c7564-0_9-317-66116_20241002213540104.parquet|575767   |23159    |SET OF 5 PANCAKE DAY MAGNETS     |1       |2.08     |17348     |United Kingdom|2011-11-11 11:11:00|584795  |2011       |11          |\n",
      "|20241002213540104  |20241002213540104_9_13|756956            |2011/11               |177c579a-0ae2-445a-afd5-e5f2029c7564-0_9-317-66116_20241002213540104.parquet|576054   |23510    |MINI PLAYING CARDS GYMKHANA      |1       |0.42     |15787     |United Kingdom|2011-11-13 14:55:00|756956  |2011       |11          |\n",
      "|20241002213540104  |20241002213540104_9_14|542742            |2011/11               |177c579a-0ae2-445a-afd5-e5f2029c7564-0_9-317-66116_20241002213540104.parquet|578844   |21494    |ROTATING LEAVES T-LIGHT HOLDER   |3       |2.46     |NULL      |United Kingdom|2011-11-25 16:14:00|542742  |2011       |11          |\n",
      "|20241002213540104  |20241002213540104_9_15|868455            |2011/11               |177c579a-0ae2-445a-afd5-e5f2029c7564-0_9-317-66116_20241002213540104.parquet|575075   |84356    |POMPOM CURTAIN                   |2       |6.95     |13975     |United Kingdom|2011-11-08 13:19:00|868455  |2011       |11          |\n",
      "|20241002213540104  |20241002213540104_9_16|414045            |2011/11               |177c579a-0ae2-445a-afd5-e5f2029c7564-0_9-317-66116_20241002213540104.parquet|579711   |84876B   |GREEN HEART COMPACT MIRROR       |1       |1.25     |15060     |United Kingdom|2011-11-30 14:17:00|414045  |2011       |11          |\n",
      "|20241002213540104  |20241002213540104_9_17|728263            |2011/11               |177c579a-0ae2-445a-afd5-e5f2029c7564-0_9-317-66116_20241002213540104.parquet|575908   |23445    |ICE CREAM BUBBLES                |20      |0.83     |13091     |United Kingdom|2011-11-11 15:54:00|728263  |2011       |11          |\n",
      "|20241002213540104  |20241002213540104_9_18|817088            |2011/11               |177c579a-0ae2-445a-afd5-e5f2029c7564-0_9-317-66116_20241002213540104.parquet|575726   |22748    |POPPY'S PLAYHOUSE KITCHEN        |2       |2.1      |16791     |United Kingdom|2011-11-10 19:12:00|817088  |2011       |11          |\n",
      "|20241002213540104  |20241002213540104_9_19|870168            |2011/11               |177c579a-0ae2-445a-afd5-e5f2029c7564-0_9-317-66116_20241002213540104.parquet|579284   |48187    |DOORMAT NEW ENGLAND              |50      |7.08     |15061     |United Kingdom|2011-11-29 10:52:00|870168  |2011       |11          |\n",
      "+-------------------+----------------------+------------------+----------------------+----------------------------------------------------------------------------+---------+---------+---------------------------------+--------+---------+----------+--------------+-------------------+--------+-----------+------------+\n",
      "only showing top 20 rows\n",
      "\n"
     ]
    }
   ],
   "source": [
    "hudi_read_options = {\n",
    "    'hoodie.datasource.query.type': 'snapshot'\n",
    "}\n",
    "\n",
    "# Reading the Hudi table from the base path\n",
    "hudi_df = spark.read.format(\"hudi\").options(**hudi_read_options).load(\"s3a://hudi-minio-bucket/my_hudi_table\")\n",
    "\n",
    "\n",
    "hudi_df.printSchema()\n",
    "# Display the data\n",
    "# hudi_df.show(truncate=False)"
   ]
  },
  {
   "cell_type": "code",
   "execution_count": null,
   "id": "a2a236ec-29b5-4622-a1b6-7f9779c20ec5",
   "metadata": {},
   "outputs": [],
   "source": []
  }
 ],
 "metadata": {
  "kernelspec": {
   "display_name": "Python 3 (ipykernel)",
   "language": "python",
   "name": "python3"
  },
  "language_info": {
   "codemirror_mode": {
    "name": "ipython",
    "version": 3
   },
   "file_extension": ".py",
   "mimetype": "text/x-python",
   "name": "python",
   "nbconvert_exporter": "python",
   "pygments_lexer": "ipython3",
   "version": "3.11.4"
  }
 },
 "nbformat": 4,
 "nbformat_minor": 5
}
