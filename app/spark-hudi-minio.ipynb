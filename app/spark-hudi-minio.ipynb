{
 "cells": [
  {
   "cell_type": "code",
   "execution_count": 1,
   "id": "0ea9dc02-557a-457e-a121-9b990255e218",
   "metadata": {},
   "outputs": [
    {
     "name": "stdout",
     "output_type": "stream",
     "text": [
      "Python 3.11.4\n"
     ]
    }
   ],
   "source": [
    "!python --version"
   ]
  },
  {
   "cell_type": "code",
   "execution_count": 2,
   "id": "00554142-c172-4793-b636-f98e1b6aef57",
   "metadata": {},
   "outputs": [
    {
     "name": "stderr",
     "output_type": "stream",
     "text": [
      "Setting default log level to \"WARN\".\n",
      "To adjust logging level use sc.setLogLevel(newLevel). For SparkR, use setLogLevel(newLevel).\n",
      "24/10/02 17:06:16 WARN NativeCodeLoader: Unable to load native-hadoop library for your platform... using builtin-java classes where applicable\n"
     ]
    }
   ],
   "source": [
    "import findspark\n",
    "findspark.init()\n",
    "import pyspark\n",
    "from pyspark.sql import SparkSession\n",
    "import pyspark.sql.functions as f\n",
    "\n",
    "# Create SparkSession with Hudi configuration\n",
    "\n",
    "spark = SparkSession.builder \\\n",
    "    .appName(\"HudiJob\") \\\n",
    "    .config(\"spark.hadoop.fs.s3a.access.key\", \"minioadmin\") \\\n",
    "    .config(\"spark.hadoop.fs.s3a.secret.key\", \"minioadmin\") \\\n",
    "    .config(\"spark.hadoop.fs.s3a.endpoint\", \"http://minio:9000\") \\\n",
    "    .config(\"spark.hadoop.fs.s3a.path.style.access\", \"true\") \\\n",
    "    .config(\"spark.hadoop.fs.s3a.connection.ssl.enabled\", \"false\") \\\n",
    "    .config(\"spark.serializer\", \"org.apache.spark.serializer.KryoSerializer\") \\\n",
    "    .config(\"spark.sql.extensions\", \"org.apache.spark.sql.hudi.HoodieSparkSessionExtension\") \\\n",
    "    .config(\"spark.sql.catalog.spark_catalog\", \"org.apache.spark.sql.hudi.catalog.HoodieCatalog\") \\\n",
    "    .getOrCreate()"
   ]
  },
  {
   "cell_type": "code",
   "execution_count": 3,
   "id": "b139785b-6240-4baf-93e8-b5b8bb9d6118",
   "metadata": {},
   "outputs": [
    {
     "name": "stderr",
     "output_type": "stream",
     "text": [
      "                                                                                \r"
     ]
    },
    {
     "name": "stdout",
     "output_type": "stream",
     "text": [
      "+---+-----+---+--------------------+\n",
      "| id| name|age|      curr_timestamp|\n",
      "+---+-----+---+--------------------+\n",
      "|  1|Alice| 24|2024-10-02 17:06:...|\n",
      "|  2|  Bob| 30|2024-10-02 17:06:...|\n",
      "+---+-----+---+--------------------+\n",
      "\n"
     ]
    }
   ],
   "source": [
    "from pyspark.sql import Row\n",
    "from pyspark.sql.functions import lit\n",
    "# Example data\n",
    "data = [Row(id=1, name=\"Alice\", age=24), Row(id=2, name=\"Bob\", age=30)]\n",
    "df = spark.createDataFrame(data)\n",
    "\n",
    "dfWithTimestamp = df.withColumn(\"curr_timestamp\", f.current_timestamp())\n",
    "dfWithTimestamp.show()"
   ]
  },
  {
   "cell_type": "code",
   "execution_count": 4,
   "id": "2aab0ede-79c1-481c-989a-53eb8f4f3525",
   "metadata": {
    "scrolled": true
   },
   "outputs": [
    {
     "name": "stderr",
     "output_type": "stream",
     "text": [
      "24/10/02 17:06:33 WARN MetricsConfig: Cannot locate configuration: tried hadoop-metrics2-s3a-file-system.properties,hadoop-metrics2.properties\n",
      "24/10/02 17:06:34 WARN DFSPropertiesConfiguration: Cannot find HUDI_CONF_DIR, please set it as the dir of hudi-defaults.conf\n",
      "24/10/02 17:06:34 WARN DFSPropertiesConfiguration: Properties file file:/etc/hudi/conf/hudi-defaults.conf not found. Ignoring to load props file\n",
      "24/10/02 17:06:34 WARN DataSourceOptionsHelper$: hoodie.datasource.write.storage.type is deprecated and will be removed in a later release; Please use hoodie.datasource.write.table.type\n",
      "24/10/02 17:06:34 WARN DataSourceOptionsHelper$: hoodie.datasource.write.storage.type is deprecated and will be removed in a later release; Please use hoodie.datasource.write.table.type\n",
      "24/10/02 17:06:34 WARN HoodieSparkSqlWriterInternal: hoodie table at s3a://hudi-minio-bucket/my_hudi_table already exists. Deleting existing data & overwriting with new data.\n",
      "24/10/02 17:06:37 WARN S3ABlockOutputStream: Application invoked the Syncable API against stream writing to my_hudi_table/.hoodie/metadata/files/.files-0000-0_00000000000000010.log.1_0-0-0. This is unsupported\n",
      "24/10/02 17:06:38 WARN MetricsConfig: Cannot locate configuration: tried hadoop-metrics2-hbase.properties,hadoop-metrics2.properties\n",
      "                                                                                \r"
     ]
    },
    {
     "name": "stdout",
     "output_type": "stream",
     "text": [
      "# WARNING: Unable to get Instrumentation. Dynamic Attach failed. You may add this JAR as -javaagent manually, or supply -Djdk.attach.allowAttachSelf\n"
     ]
    },
    {
     "name": "stderr",
     "output_type": "stream",
     "text": [
      "24/10/02 17:06:46 WARN HoodieSparkSqlWriterInternal: Closing write client       \n"
     ]
    }
   ],
   "source": [
    "hudi_options = {\n",
    "    'hoodie.table.name':'my_hudi_table',\n",
    "    'hoodie.datasource.write.table.type': 'COPY_ON_WRITE'\n",
    "    'hoodie.datasource.write.recordkey.field': 'id',\n",
    "    'hoodie.datasource.write.precombine.field': 'curr_timestamp',\n",
    "    'hoodie.datasource.write.partitionpath.field': 'curr_timestamp',  # Consider changing this\n",
    "    'hoodie.datasource.write.table.name': 'my_hudi_table',\n",
    "    'hoodie.datasource.hive_sync.enable': 'false',\n",
    "    'hoodie.datasource.write.operation': 'upsert',\n",
    "}\n",
    "\n",
    "# Sample Hudi write code\n",
    "dfWithTimestamp.write.format(\"hudi\").options(**hudi_options).mode(\"overwrite\").save(\"s3a://hudi-minio-bucket/my_hudi_table\")"
   ]
  },
  {
   "cell_type": "code",
   "execution_count": 6,
   "id": "a17c0bce-89de-48ff-9849-1dbac964a5df",
   "metadata": {},
   "outputs": [
    {
     "name": "stdout",
     "output_type": "stream",
     "text": [
      "+-------------------+--------------------+------------------+----------------------+--------------------+---+-----+---+-------------------+\n",
      "|_hoodie_commit_time|_hoodie_commit_seqno|_hoodie_record_key|_hoodie_partition_path|   _hoodie_file_name| id| name|age|     curr_timestamp|\n",
      "+-------------------+--------------------+------------------+----------------------+--------------------+---+-----+---+-------------------+\n",
      "|  20241002170635296|20241002170635296...|                 2|      1727888796133503|f71b70f6-80a4-41c...|  2|  Bob| 30|1970-01-01 00:00:00|\n",
      "|  20241002170635296|20241002170635296...|                 1|      1727888796133503|f71b70f6-80a4-41c...|  1|Alice| 24|1970-01-01 00:00:00|\n",
      "+-------------------+--------------------+------------------+----------------------+--------------------+---+-----+---+-------------------+\n",
      "\n"
     ]
    }
   ],
   "source": [
    "hudi_read_options = {\n",
    "    'hoodie.datasource.query.type': 'snapshot'\n",
    "}\n",
    "\n",
    "# Reading the Hudi table from the base path\n",
    "hudi_df = spark.read.format(\"hudi\").options(**hudi_read_options).load(\"s3a://hudi-minio-bucket/my_hudi_table\")\n",
    "\n",
    "# Display the data\n",
    "hudi_df.show()\n",
    "\n"
   ]
  },
  {
   "cell_type": "code",
   "execution_count": null,
   "id": "cfec06f0-d31f-425b-a52c-0be03cb9149b",
   "metadata": {},
   "outputs": [],
   "source": []
  }
 ],
 "metadata": {
  "kernelspec": {
   "display_name": "Python 3 (ipykernel)",
   "language": "python",
   "name": "python3"
  },
  "language_info": {
   "codemirror_mode": {
    "name": "ipython",
    "version": 3
   },
   "file_extension": ".py",
   "mimetype": "text/x-python",
   "name": "python",
   "nbconvert_exporter": "python",
   "pygments_lexer": "ipython3",
   "version": "3.11.4"
  }
 },
 "nbformat": 4,
 "nbformat_minor": 5
}
