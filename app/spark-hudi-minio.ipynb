{
 "cells": [
  {
   "cell_type": "code",
   "execution_count": 1,
   "id": "0ea9dc02-557a-457e-a121-9b990255e218",
   "metadata": {},
   "outputs": [
    {
     "name": "stdout",
     "output_type": "stream",
     "text": [
      "Python 3.11.12\n"
     ]
    }
   ],
   "source": [
    "!python --version"
   ]
  },
  {
   "cell_type": "code",
   "execution_count": 2,
   "id": "00554142-c172-4793-b636-f98e1b6aef57",
   "metadata": {},
   "outputs": [
    {
     "name": "stderr",
     "output_type": "stream",
     "text": [
      "/home/spark/bin/load-spark-env.sh: line 68: ps: command not found\n",
      "Setting default log level to \"WARN\".\n",
      "To adjust logging level use sc.setLogLevel(newLevel). For SparkR, use setLogLevel(newLevel).\n",
      "25/05/11 02:14:16 WARN NativeCodeLoader: Unable to load native-hadoop library for your platform... using builtin-java classes where applicable\n"
     ]
    }
   ],
   "source": [
    "import findspark\n",
    "findspark.init()\n",
    "import pyspark\n",
    "from pyspark.sql import SparkSession\n",
    "import pyspark.sql.functions as f\n",
    "\n",
    "# Create SparkSession with Hudi configuration\n",
    "\n",
    "spark = SparkSession.builder \\\n",
    "    .appName(\"HudiJob\") \\\n",
    "    .config(\"spark.hadoop.fs.s3a.access.key\", \"minioadmin\") \\\n",
    "    .config(\"spark.hadoop.fs.s3a.secret.key\", \"minioadmin\") \\\n",
    "    .config(\"spark.hadoop.fs.s3a.endpoint\", \"http://minio:9000\") \\\n",
    "    .config(\"spark.hadoop.fs.s3a.path.style.access\", \"true\") \\\n",
    "    .config(\"spark.hadoop.fs.s3a.connection.ssl.enabled\", \"false\") \\\n",
    "    .config(\"spark.serializer\", \"org.apache.spark.serializer.KryoSerializer\") \\\n",
    "    .config(\"spark.sql.extensions\", \"org.apache.spark.sql.hudi.HoodieSparkSessionExtension\") \\\n",
    "    .config(\"spark.sql.catalog.spark_catalog\", \"org.apache.spark.sql.hudi.catalog.HoodieCatalog\") \\\n",
    "    .getOrCreate()"
   ]
  },
  {
   "cell_type": "code",
   "execution_count": 3,
   "id": "b139785b-6240-4baf-93e8-b5b8bb9d6118",
   "metadata": {},
   "outputs": [
    {
     "name": "stdout",
     "output_type": "stream",
     "text": [
      "Current working directory: /home/sparkuser/app\n",
      "Directory contents: ['.ipynb_checkpoints', 'event_logs', 'online_retail.csv', 'spark-hudi-minio.ipynb', 'spark-warehouse']\n",
      "Checking if file exists at relative path: online_retail.csv\n",
      "File exists: True\n",
      "+---------+---------+--------------------+--------+--------------+---------+----------+--------------+\n",
      "|InvoiceNo|StockCode|         Description|Quantity|   InvoiceDate|UnitPrice|CustomerID|       Country|\n",
      "+---------+---------+--------------------+--------+--------------+---------+----------+--------------+\n",
      "|   536365|   85123A|WHITE HANGING HEA...|       6|01/12/10 08:26|     2.55|     17850|United Kingdom|\n",
      "|   536365|    71053| WHITE METAL LANTERN|       6|01/12/10 08:26|     3.39|     17850|United Kingdom|\n",
      "|   536365|   84406B|CREAM CUPID HEART...|       8|01/12/10 08:26|     2.75|     17850|United Kingdom|\n",
      "|   536365|   84029G|KNITTED UNION FLA...|       6|01/12/10 08:26|     3.39|     17850|United Kingdom|\n",
      "|   536365|   84029E|RED WOOLLY HOTTIE...|       6|01/12/10 08:26|     3.39|     17850|United Kingdom|\n",
      "|   536365|    22752|SET 7 BABUSHKA NE...|       2|01/12/10 08:26|     7.65|     17850|United Kingdom|\n",
      "|   536365|    21730|GLASS STAR FROSTE...|       6|01/12/10 08:26|     4.25|     17850|United Kingdom|\n",
      "|   536366|    22633|HAND WARMER UNION...|       6|01/12/10 08:28|     1.85|     17850|United Kingdom|\n",
      "|   536366|    22632|HAND WARMER RED P...|       6|01/12/10 08:28|     1.85|     17850|United Kingdom|\n",
      "|   536367|    84879|ASSORTED COLOUR B...|      32|01/12/10 08:34|     1.69|     13047|United Kingdom|\n",
      "|   536367|    22745|POPPY'S PLAYHOUSE...|       6|01/12/10 08:34|      2.1|     13047|United Kingdom|\n",
      "|   536367|    22748|POPPY'S PLAYHOUSE...|       6|01/12/10 08:34|      2.1|     13047|United Kingdom|\n",
      "|   536367|    22749|FELTCRAFT PRINCES...|       8|01/12/10 08:34|     3.75|     13047|United Kingdom|\n",
      "|   536367|    22310|IVORY KNITTED MUG...|       6|01/12/10 08:34|     1.65|     13047|United Kingdom|\n",
      "|   536367|    84969|BOX OF 6 ASSORTED...|       6|01/12/10 08:34|     4.25|     13047|United Kingdom|\n",
      "|   536367|    22623|BOX OF VINTAGE JI...|       3|01/12/10 08:34|     4.95|     13047|United Kingdom|\n",
      "|   536367|    22622|BOX OF VINTAGE AL...|       2|01/12/10 08:34|     9.95|     13047|United Kingdom|\n",
      "|   536367|    21754|HOME BUILDING BLO...|       3|01/12/10 08:34|     5.95|     13047|United Kingdom|\n",
      "|   536367|    21755|LOVE BUILDING BLO...|       3|01/12/10 08:34|     5.95|     13047|United Kingdom|\n",
      "|   536367|    21777|RECIPE BOX WITH M...|       4|01/12/10 08:34|     7.95|     13047|United Kingdom|\n",
      "+---------+---------+--------------------+--------+--------------+---------+----------+--------------+\n",
      "only showing top 20 rows\n",
      "\n",
      "+---------+---------+--------------------+--------+--------------+---------+----------+--------------+-------------------+--------+\n",
      "|InvoiceNo|StockCode|         Description|Quantity|   InvoiceDate|UnitPrice|CustomerID|       Country|      InvoiceDateTS|RecordId|\n",
      "+---------+---------+--------------------+--------+--------------+---------+----------+--------------+-------------------+--------+\n",
      "|   536365|   85123A|WHITE HANGING HEA...|       6|01/12/10 08:26|     2.55|     17850|United Kingdom|2010-12-01 08:26:00|  801323|\n",
      "|   536365|    71053| WHITE METAL LANTERN|       6|01/12/10 08:26|     3.39|     17850|United Kingdom|2010-12-01 08:26:00|  914150|\n",
      "|   536365|   84406B|CREAM CUPID HEART...|       8|01/12/10 08:26|     2.75|     17850|United Kingdom|2010-12-01 08:26:00|  138888|\n",
      "|   536365|   84029G|KNITTED UNION FLA...|       6|01/12/10 08:26|     3.39|     17850|United Kingdom|2010-12-01 08:26:00|  801587|\n",
      "|   536365|   84029E|RED WOOLLY HOTTIE...|       6|01/12/10 08:26|     3.39|     17850|United Kingdom|2010-12-01 08:26:00|  667297|\n",
      "|   536365|    22752|SET 7 BABUSHKA NE...|       2|01/12/10 08:26|     7.65|     17850|United Kingdom|2010-12-01 08:26:00|  305546|\n",
      "|   536365|    21730|GLASS STAR FROSTE...|       6|01/12/10 08:26|     4.25|     17850|United Kingdom|2010-12-01 08:26:00|  197851|\n",
      "|   536366|    22633|HAND WARMER UNION...|       6|01/12/10 08:28|     1.85|     17850|United Kingdom|2010-12-01 08:28:00|  728478|\n",
      "|   536366|    22632|HAND WARMER RED P...|       6|01/12/10 08:28|     1.85|     17850|United Kingdom|2010-12-01 08:28:00|  608133|\n",
      "|   536367|    84879|ASSORTED COLOUR B...|      32|01/12/10 08:34|     1.69|     13047|United Kingdom|2010-12-01 08:34:00|  540858|\n",
      "|   536367|    22745|POPPY'S PLAYHOUSE...|       6|01/12/10 08:34|      2.1|     13047|United Kingdom|2010-12-01 08:34:00|  311040|\n",
      "|   536367|    22748|POPPY'S PLAYHOUSE...|       6|01/12/10 08:34|      2.1|     13047|United Kingdom|2010-12-01 08:34:00|  450009|\n",
      "|   536367|    22749|FELTCRAFT PRINCES...|       8|01/12/10 08:34|     3.75|     13047|United Kingdom|2010-12-01 08:34:00|  229894|\n",
      "|   536367|    22310|IVORY KNITTED MUG...|       6|01/12/10 08:34|     1.65|     13047|United Kingdom|2010-12-01 08:34:00|  767435|\n",
      "|   536367|    84969|BOX OF 6 ASSORTED...|       6|01/12/10 08:34|     4.25|     13047|United Kingdom|2010-12-01 08:34:00|  180720|\n",
      "|   536367|    22623|BOX OF VINTAGE JI...|       3|01/12/10 08:34|     4.95|     13047|United Kingdom|2010-12-01 08:34:00|  556076|\n",
      "|   536367|    22622|BOX OF VINTAGE AL...|       2|01/12/10 08:34|     9.95|     13047|United Kingdom|2010-12-01 08:34:00|  601376|\n",
      "|   536367|    21754|HOME BUILDING BLO...|       3|01/12/10 08:34|     5.95|     13047|United Kingdom|2010-12-01 08:34:00|  791606|\n",
      "|   536367|    21755|LOVE BUILDING BLO...|       3|01/12/10 08:34|     5.95|     13047|United Kingdom|2010-12-01 08:34:00|  686837|\n",
      "|   536367|    21777|RECIPE BOX WITH M...|       4|01/12/10 08:34|     7.95|     13047|United Kingdom|2010-12-01 08:34:00|  117508|\n",
      "+---------+---------+--------------------+--------+--------------+---------+----------+--------------+-------------------+--------+\n",
      "only showing top 20 rows\n",
      "\n",
      "+---------+---------+--------------------+--------+---------+----------+--------------+-------------------+--------+------------+-----------+\n",
      "|InvoiceNo|StockCode|         Description|Quantity|UnitPrice|CustomerID|       Country|      InvoiceDateTS|RecordId|InvoiceMonth|InvoiceYear|\n",
      "+---------+---------+--------------------+--------+---------+----------+--------------+-------------------+--------+------------+-----------+\n",
      "|   536365|   85123A|WHITE HANGING HEA...|       6|     2.55|     17850|United Kingdom|2010-12-01 08:26:00|  801323|          12|       2010|\n",
      "|   536365|    71053| WHITE METAL LANTERN|       6|     3.39|     17850|United Kingdom|2010-12-01 08:26:00|  914150|          12|       2010|\n",
      "|   536365|   84406B|CREAM CUPID HEART...|       8|     2.75|     17850|United Kingdom|2010-12-01 08:26:00|  138888|          12|       2010|\n",
      "|   536365|   84029G|KNITTED UNION FLA...|       6|     3.39|     17850|United Kingdom|2010-12-01 08:26:00|  801587|          12|       2010|\n",
      "|   536365|   84029E|RED WOOLLY HOTTIE...|       6|     3.39|     17850|United Kingdom|2010-12-01 08:26:00|  667297|          12|       2010|\n",
      "|   536365|    22752|SET 7 BABUSHKA NE...|       2|     7.65|     17850|United Kingdom|2010-12-01 08:26:00|  305546|          12|       2010|\n",
      "|   536365|    21730|GLASS STAR FROSTE...|       6|     4.25|     17850|United Kingdom|2010-12-01 08:26:00|  197851|          12|       2010|\n",
      "|   536366|    22633|HAND WARMER UNION...|       6|     1.85|     17850|United Kingdom|2010-12-01 08:28:00|  728478|          12|       2010|\n",
      "|   536366|    22632|HAND WARMER RED P...|       6|     1.85|     17850|United Kingdom|2010-12-01 08:28:00|  608133|          12|       2010|\n",
      "|   536367|    84879|ASSORTED COLOUR B...|      32|     1.69|     13047|United Kingdom|2010-12-01 08:34:00|  540858|          12|       2010|\n",
      "|   536367|    22745|POPPY'S PLAYHOUSE...|       6|      2.1|     13047|United Kingdom|2010-12-01 08:34:00|  311040|          12|       2010|\n",
      "|   536367|    22748|POPPY'S PLAYHOUSE...|       6|      2.1|     13047|United Kingdom|2010-12-01 08:34:00|  450009|          12|       2010|\n",
      "|   536367|    22749|FELTCRAFT PRINCES...|       8|     3.75|     13047|United Kingdom|2010-12-01 08:34:00|  229894|          12|       2010|\n",
      "|   536367|    22310|IVORY KNITTED MUG...|       6|     1.65|     13047|United Kingdom|2010-12-01 08:34:00|  767435|          12|       2010|\n",
      "|   536367|    84969|BOX OF 6 ASSORTED...|       6|     4.25|     13047|United Kingdom|2010-12-01 08:34:00|  180720|          12|       2010|\n",
      "|   536367|    22623|BOX OF VINTAGE JI...|       3|     4.95|     13047|United Kingdom|2010-12-01 08:34:00|  556076|          12|       2010|\n",
      "|   536367|    22622|BOX OF VINTAGE AL...|       2|     9.95|     13047|United Kingdom|2010-12-01 08:34:00|  601376|          12|       2010|\n",
      "|   536367|    21754|HOME BUILDING BLO...|       3|     5.95|     13047|United Kingdom|2010-12-01 08:34:00|  791606|          12|       2010|\n",
      "|   536367|    21755|LOVE BUILDING BLO...|       3|     5.95|     13047|United Kingdom|2010-12-01 08:34:00|  686837|          12|       2010|\n",
      "|   536367|    21777|RECIPE BOX WITH M...|       4|     7.95|     13047|United Kingdom|2010-12-01 08:34:00|  117508|          12|       2010|\n",
      "+---------+---------+--------------------+--------+---------+----------+--------------+-------------------+--------+------------+-----------+\n",
      "only showing top 20 rows\n",
      "\n"
     ]
    }
   ],
   "source": [
    "from pyspark.sql.functions import month, year\n",
    "from pyspark.sql.types import StructType, StructField, StringType, IntegerType, FloatType, TimestampType\n",
    "from pyspark.sql.functions import to_timestamp\n",
    "import os\n",
    "\n",
    "# Define the schema\n",
    "schema = StructType([\n",
    "    StructField(\"InvoiceNo\", StringType(), True),\n",
    "    StructField(\"StockCode\", StringType(), True),\n",
    "    StructField(\"Description\", StringType(), True),\n",
    "    StructField(\"Quantity\", IntegerType(), True),\n",
    "    StructField(\"InvoiceDate\", StringType(), True),  # Read as String first, to convert later\n",
    "    StructField(\"UnitPrice\", FloatType(), True),\n",
    "    StructField(\"CustomerID\", StringType(), True),\n",
    "    StructField(\"Country\", StringType(), True)\n",
    "])\n",
    "\n",
    "# Try different file path approaches\n",
    "print(\"Current working directory:\", os.getcwd())\n",
    "print(\"Directory contents:\", os.listdir())\n",
    "\n",
    "# Approach 1: Use relative path directly\n",
    "csv_file_path = \"online_retail.csv\"\n",
    "\n",
    "# Debugging information\n",
    "print(f\"Checking if file exists at relative path: {csv_file_path}\")\n",
    "print(f\"File exists: {os.path.exists(csv_file_path)}\")\n",
    "\n",
    "try:\n",
    "    df = spark.read.csv(csv_file_path, header=True, schema=schema)\n",
    "    df.show()\n",
    "except Exception as e:\n",
    "    print(f\"Error with relative path: {e}\")\n",
    "    # Approach 2: Try using the full path within the container\n",
    "    csv_file_path = \"/home/sparkuser/app/online_retail.csv\"\n",
    "    print(f\"Trying with container path: {csv_file_path}\")\n",
    "    print(f\"File exists: {os.path.exists(csv_file_path)}\")\n",
    "    \n",
    "    try:\n",
    "        df = spark.read.csv(csv_file_path, header=True, schema=schema)\n",
    "        df.show()\n",
    "    except Exception as e:\n",
    "        print(f\"Error with container path: {e}\")\n",
    "        # Approach 3: Use file protocol properly\n",
    "        csv_file_path = \"file:/\" + csv_file_path\n",
    "        print(f\"Trying with file protocol: {csv_file_path}\")\n",
    "        df = spark.read.csv(csv_file_path, header=True, schema=schema)\n",
    "        df.show()\n",
    "\n",
    "df_with_record_id = df.withColumn(\"InvoiceDateTS\", to_timestamp(df[\"InvoiceDate\"], \"dd/MM/yy HH:mm\")) \\\n",
    "        .withColumn(\"RecordId\",(f.floor(f.rand() * 900000) + 100000).cast(\"int\")) # Generates a number between 100000 and 999999\n",
    "\n",
    "df_with_record_id.show()\n",
    "\n",
    "df_with_partition_column = df_with_record_id.withColumn(\"InvoiceMonth\", month(df_with_record_id[\"InvoiceDateTS\"])) \\\n",
    "       .withColumn(\"InvoiceYear\", year(df_with_record_id[\"InvoiceDateTS\"])) \\\n",
    "       .drop(\"InvoiceDate\")  # Optionally drop original InvoiceDate\n",
    "\n",
    "\n",
    "df_with_partition_column.show()"
   ]
  },
  {
   "cell_type": "code",
   "execution_count": 4,
   "id": "425b518b-ff42-4dc3-91f6-e228669b515b",
   "metadata": {},
   "outputs": [
    {
     "name": "stdout",
     "output_type": "stream",
     "text": [
      "root\n",
      " |-- InvoiceNo: string (nullable = true)\n",
      " |-- StockCode: string (nullable = true)\n",
      " |-- Description: string (nullable = true)\n",
      " |-- Quantity: integer (nullable = true)\n",
      " |-- UnitPrice: float (nullable = true)\n",
      " |-- CustomerID: string (nullable = true)\n",
      " |-- Country: string (nullable = true)\n",
      " |-- InvoiceDateTS: timestamp (nullable = true)\n",
      " |-- RecordId: integer (nullable = true)\n",
      " |-- InvoiceMonth: integer (nullable = true)\n",
      " |-- InvoiceYear: integer (nullable = true)\n",
      "\n"
     ]
    }
   ],
   "source": [
    "# Print schema\n",
    "df_with_partition_column.printSchema()"
   ]
  },
  {
   "cell_type": "code",
   "execution_count": 5,
   "id": "fe9c1fa5-be9a-4b54-b451-9b2f5292889a",
   "metadata": {},
   "outputs": [
    {
     "name": "stderr",
     "output_type": "stream",
     "text": [
      "25/05/11 02:14:39 WARN SparkStringUtils: Truncated the string representation of a plan since it was too large. This behavior can be adjusted by setting 'spark.sql.debug.maxToStringFields'.\n",
      "[Stage 3:=============================>                             (2 + 2) / 4]"
     ]
    },
    {
     "name": "stdout",
     "output_type": "stream",
     "text": [
      "+-------+-----------------+------------------+--------------------+------------------+-----------------+------------------+-----------+------------------+------------------+------------------+\n",
      "|summary|        InvoiceNo|         StockCode|         Description|          Quantity|        UnitPrice|        CustomerID|    Country|          RecordId|      InvoiceMonth|       InvoiceYear|\n",
      "+-------+-----------------+------------------+--------------------+------------------+-----------------+------------------+-----------+------------------+------------------+------------------+\n",
      "|  count|           541909|            541909|              540455|            541909|           541909|            406829|     541909|            541909|            541909|            541909|\n",
      "|   mean| 559965.752026781|27623.240210938104|             20713.0|  9.55224954743324|4.611113614622465|15287.690570239585|       NULL| 549895.9258639365| 7.553127923691985|2010.9216086095637|\n",
      "| stddev|13428.41728079929|16799.737628427636|                NULL|218.08115785023477|96.75985330031469|1713.6003033215952|       NULL|259612.41986616753|3.5090553679185565|0.2687867438385401|\n",
      "|    min|           536365|             10002| 4 PURPLE FLOCK D...|            -80995|        -11062.06|             12346|  Australia|            100000|                 1|              2010|\n",
      "|    max|          C581569|                 m|   wrongly sold sets|             80995|          38970.0|             18287|Unspecified|            999998|                12|              2011|\n",
      "+-------+-----------------+------------------+--------------------+------------------+-----------------+------------------+-----------+------------------+------------------+------------------+\n",
      "\n"
     ]
    },
    {
     "name": "stderr",
     "output_type": "stream",
     "text": [
      "                                                                                "
     ]
    }
   ],
   "source": [
    "df_with_partition_column.describe().show()"
   ]
  },
  {
   "cell_type": "code",
   "execution_count": 6,
   "id": "086792ff-260b-4b5e-b246-d1e42d16e45e",
   "metadata": {},
   "outputs": [
    {
     "name": "stderr",
     "output_type": "stream",
     "text": [
      "[Stage 7:===================>                                       (1 + 2) / 3]"
     ]
    },
    {
     "name": "stdout",
     "output_type": "stream",
     "text": [
      "+---------+---------+-----------+--------+---------+----------+-------+-------------+--------+------------+-----------+\n",
      "|InvoiceNo|StockCode|Description|Quantity|UnitPrice|CustomerID|Country|InvoiceDateTS|RecordId|InvoiceMonth|InvoiceYear|\n",
      "+---------+---------+-----------+--------+---------+----------+-------+-------------+--------+------------+-----------+\n",
      "+---------+---------+-----------+--------+---------+----------+-------+-------------+--------+------------+-----------+\n",
      "\n"
     ]
    },
    {
     "name": "stderr",
     "output_type": "stream",
     "text": [
      "                                                                                "
     ]
    }
   ],
   "source": [
    "df_filtered = df_with_partition_column.filter(df_with_partition_column[\"RecordId\"].isNull())\n",
    "df_filtered.show()"
   ]
  },
  {
   "cell_type": "code",
   "execution_count": 12,
   "id": "ba538694-d98b-4c94-a00e-32bb46c258ed",
   "metadata": {},
   "outputs": [
    {
     "name": "stdout",
     "output_type": "stream",
     "text": [
      "+---------+---------+-----------------------------------+--------+--------------+---------+----------+--------------+-------------------+--------+\n",
      "|InvoiceNo|StockCode|Description                        |Quantity|InvoiceDate   |UnitPrice|CustomerID|Country       |InvoiceDateTS      |RecordId|\n",
      "+---------+---------+-----------------------------------+--------+--------------+---------+----------+--------------+-------------------+--------+\n",
      "|536365   |85123A   |WHITE HANGING HEART T-LIGHT HOLDER |6       |01/12/10 08:26|2.55     |17850     |United Kingdom|2010-12-01 08:26:00|638357  |\n",
      "|536365   |71053    |WHITE METAL LANTERN                |6       |01/12/10 08:26|3.39     |17850     |United Kingdom|2010-12-01 08:26:00|374306  |\n",
      "|536365   |84406B   |CREAM CUPID HEARTS COAT HANGER     |8       |01/12/10 08:26|2.75     |17850     |United Kingdom|2010-12-01 08:26:00|355909  |\n",
      "|536365   |84029G   |KNITTED UNION FLAG HOT WATER BOTTLE|6       |01/12/10 08:26|3.39     |17850     |United Kingdom|2010-12-01 08:26:00|835587  |\n",
      "|536365   |84029E   |RED WOOLLY HOTTIE WHITE HEART.     |6       |01/12/10 08:26|3.39     |17850     |United Kingdom|2010-12-01 08:26:00|658939  |\n",
      "|536365   |22752    |SET 7 BABUSHKA NESTING BOXES       |2       |01/12/10 08:26|7.65     |17850     |United Kingdom|2010-12-01 08:26:00|382255  |\n",
      "|536365   |21730    |GLASS STAR FROSTED T-LIGHT HOLDER  |6       |01/12/10 08:26|4.25     |17850     |United Kingdom|2010-12-01 08:26:00|512449  |\n",
      "|536366   |22633    |HAND WARMER UNION JACK             |6       |01/12/10 08:28|1.85     |17850     |United Kingdom|2010-12-01 08:28:00|786963  |\n",
      "|536366   |22632    |HAND WARMER RED POLKA DOT          |6       |01/12/10 08:28|1.85     |17850     |United Kingdom|2010-12-01 08:28:00|172585  |\n",
      "|536367   |84879    |ASSORTED COLOUR BIRD ORNAMENT      |32      |01/12/10 08:34|1.69     |13047     |United Kingdom|2010-12-01 08:34:00|311664  |\n",
      "|536367   |22745    |POPPY'S PLAYHOUSE BEDROOM          |6       |01/12/10 08:34|2.1      |13047     |United Kingdom|2010-12-01 08:34:00|521120  |\n",
      "|536367   |22748    |POPPY'S PLAYHOUSE KITCHEN          |6       |01/12/10 08:34|2.1      |13047     |United Kingdom|2010-12-01 08:34:00|278091  |\n",
      "|536367   |22749    |FELTCRAFT PRINCESS CHARLOTTE DOLL  |8       |01/12/10 08:34|3.75     |13047     |United Kingdom|2010-12-01 08:34:00|129359  |\n",
      "|536367   |22310    |IVORY KNITTED MUG COSY             |6       |01/12/10 08:34|1.65     |13047     |United Kingdom|2010-12-01 08:34:00|848742  |\n",
      "|536367   |84969    |BOX OF 6 ASSORTED COLOUR TEASPOONS |6       |01/12/10 08:34|4.25     |13047     |United Kingdom|2010-12-01 08:34:00|568535  |\n",
      "|536367   |22623    |BOX OF VINTAGE JIGSAW BLOCKS       |3       |01/12/10 08:34|4.95     |13047     |United Kingdom|2010-12-01 08:34:00|170369  |\n",
      "|536367   |22622    |BOX OF VINTAGE ALPHABET BLOCKS     |2       |01/12/10 08:34|9.95     |13047     |United Kingdom|2010-12-01 08:34:00|363362  |\n",
      "|536367   |21754    |HOME BUILDING BLOCK WORD           |3       |01/12/10 08:34|5.95     |13047     |United Kingdom|2010-12-01 08:34:00|123189  |\n",
      "|536367   |21755    |LOVE BUILDING BLOCK WORD           |3       |01/12/10 08:34|5.95     |13047     |United Kingdom|2010-12-01 08:34:00|645120  |\n",
      "|536367   |21777    |RECIPE BOX WITH METAL HEART        |4       |01/12/10 08:34|7.95     |13047     |United Kingdom|2010-12-01 08:34:00|187257  |\n",
      "+---------+---------+-----------------------------------+--------+--------------+---------+----------+--------------+-------------------+--------+\n",
      "only showing top 20 rows\n",
      "\n",
      "+---------+---------+-----------+--------+-----------+---------+----------+-------+-------------+--------+\n",
      "|InvoiceNo|StockCode|Description|Quantity|InvoiceDate|UnitPrice|CustomerID|Country|InvoiceDateTS|RecordId|\n",
      "+---------+---------+-----------+--------+-----------+---------+----------+-------+-------------+--------+\n",
      "+---------+---------+-----------+--------+-----------+---------+----------+-------+-------------+--------+\n",
      "\n"
     ]
    }
   ],
   "source": [
    "df_filtered.count()\n",
    "df_with_record_id.show(truncate=False)  # Show full contents\n",
    "df_with_record_id.filter(df_with_record_id.RecordId.isNull() | (df_with_record_id.RecordId == \"\")).show()"
   ]
  },
  {
   "cell_type": "code",
   "execution_count": 7,
   "id": "2aab0ede-79c1-481c-989a-53eb8f4f3525",
   "metadata": {
    "scrolled": true
   },
   "outputs": [
    {
     "name": "stderr",
     "output_type": "stream",
     "text": [
      "25/05/11 02:14:58 WARN MetricsConfig: Cannot locate configuration: tried hadoop-metrics2-s3a-file-system.properties,hadoop-metrics2.properties\n",
      "25/05/11 02:14:59 WARN DFSPropertiesConfiguration: Cannot find HUDI_CONF_DIR, please set it as the dir of hudi-defaults.conf\n",
      "25/05/11 02:14:59 WARN DFSPropertiesConfiguration: Properties file file:/etc/hudi/conf/hudi-defaults.conf not found. Ignoring to load props file\n",
      "25/05/11 02:14:59 WARN HoodieSparkSqlWriterInternal: hoodie table at s3a://hudi-minio-bucket/my_hudi_table already exists. Deleting existing data & overwriting with new data.\n",
      "25/05/11 02:15:21 WARN S3ABlockOutputStream: Application invoked the Syncable API against stream writing to my_hudi_table/.hoodie/metadata/files/.files-0000-0_00000000000000010.log.1_0-0-0. This is unsupported\n",
      "25/05/11 02:15:27 WARN MetricsConfig: Cannot locate configuration: tried hadoop-metrics2-hbase.properties,hadoop-metrics2.properties\n",
      "                                                                                "
     ]
    },
    {
     "name": "stdout",
     "output_type": "stream",
     "text": [
      "# WARNING: Unable to get Instrumentation. Dynamic Attach failed. You may add this JAR as -javaagent manually, or supply -Djdk.attach.allowAttachSelf\n"
     ]
    },
    {
     "name": "stderr",
     "output_type": "stream",
     "text": [
      "[Stage 41:>                                                         (0 + 1) / 1]"
     ]
    },
    {
     "name": "stdout",
     "output_type": "stream",
     "text": [
      "# WARNING: Unable to attach Serviceability Agent. sun.jvm.hotspot.memory.Universe.getNarrowOopBase()\n"
     ]
    },
    {
     "name": "stderr",
     "output_type": "stream",
     "text": [
      "25/05/11 02:16:11 WARN HoodieSparkSqlWriterInternal: Closing write client       \n"
     ]
    }
   ],
   "source": [
    "hudi_options = {\n",
    "    'hoodie.table.name':'my_hudi_table',\n",
    "    'hoodie.datasource.write.table.type': 'COPY_ON_WRITE',\n",
    "    'hoodie.datasource.write.recordkey.field': 'RecordId',\n",
    "    'hoodie.datasource.write.precombine.field': 'InvoiceDateTS',\n",
    "    'hoodie.datasource.write.partitionpath.field': 'InvoiceYear,InvoiceMonth',  # Consider changing this\n",
    "    'hoodie.datasource.write.table.name': 'my_hudi_table2',\n",
    "    'hoodie.datasource.hive_sync.enable': 'false',\n",
    "    'hoodie.datasource.write.operation': 'upsert',\n",
    "}\n",
    "\n",
    "# Sample Hudi write code\n",
    "df_with_partition_column.write.format(\"hudi\").options(**hudi_options).mode(\"overwrite\").save(\"s3a://hudi-minio-bucket/my_hudi_table\")"
   ]
  },
  {
   "cell_type": "code",
   "execution_count": 17,
   "id": "a17c0bce-89de-48ff-9849-1dbac964a5df",
   "metadata": {},
   "outputs": [
    {
     "name": "stdout",
     "output_type": "stream",
     "text": [
      "root\n",
      " |-- _hoodie_commit_time: string (nullable = true)\n",
      " |-- _hoodie_commit_seqno: string (nullable = true)\n",
      " |-- _hoodie_record_key: string (nullable = true)\n",
      " |-- _hoodie_partition_path: string (nullable = true)\n",
      " |-- _hoodie_file_name: string (nullable = true)\n",
      " |-- InvoiceNo: string (nullable = true)\n",
      " |-- StockCode: string (nullable = true)\n",
      " |-- Description: string (nullable = true)\n",
      " |-- Quantity: integer (nullable = true)\n",
      " |-- UnitPrice: float (nullable = true)\n",
      " |-- CustomerID: string (nullable = true)\n",
      " |-- Country: string (nullable = true)\n",
      " |-- InvoiceDateTS: timestamp (nullable = true)\n",
      " |-- RecordId: integer (nullable = true)\n",
      " |-- InvoiceYear: integer (nullable = true)\n",
      " |-- InvoiceMonth: integer (nullable = true)\n",
      "\n"
     ]
    }
   ],
   "source": [
    "hudi_read_options = {\n",
    "    'hoodie.datasource.query.type': 'snapshot'\n",
    "}\n",
    "\n",
    "# Reading the Hudi table from the base path\n",
    "hudi_df = spark.read.format(\"hudi\").options(**hudi_read_options).load(\"s3a://hudi-minio-bucket/my_hudi_table\")\n",
    "\n",
    "\n",
    "hudi_df.printSchema()\n",
    "# Display the data\n",
    "# hudi_df.show(truncate=False)"
   ]
  },
  {
   "cell_type": "code",
   "execution_count": 18,
   "id": "a2a236ec-29b5-4622-a1b6-7f9779c20ec5",
   "metadata": {},
   "outputs": [
    {
     "name": "stderr",
     "output_type": "stream",
     "text": [
      "                                                                                "
     ]
    },
    {
     "name": "stdout",
     "output_type": "stream",
     "text": [
      "+-------------------+--------------------+------------------+----------------------+--------------------+---------+---------+--------------------+--------+---------+----------+--------------+-------------------+--------+-----------+------------+\n",
      "|_hoodie_commit_time|_hoodie_commit_seqno|_hoodie_record_key|_hoodie_partition_path|   _hoodie_file_name|InvoiceNo|StockCode|         Description|Quantity|UnitPrice|CustomerID|       Country|      InvoiceDateTS|RecordId|InvoiceYear|InvoiceMonth|\n",
      "+-------------------+--------------------+------------------+----------------------+--------------------+---------+---------+--------------------+--------+---------+----------+--------------+-------------------+--------+-----------+------------+\n",
      "|  20250511015430109|20250511015430109...|            609623|               2011/11|f5bd4b1b-d6ef-422...|   577740|    21034|REX CASH+CARRY JU...|       1|     0.95|     17625|United Kingdom|2011-11-21 13:36:00|  609623|       2011|          11|\n",
      "|  20250511015430109|20250511015430109...|            259293|               2011/11|f5bd4b1b-d6ef-422...|   574249|    22086|PAPER CHAIN KIT 5...|       6|     2.95|     16347|United Kingdom|2011-11-03 13:01:00|  259293|       2011|          11|\n",
      "|  20250511015430109|20250511015430109...|            424523|               2011/11|f5bd4b1b-d6ef-422...|   578045|   85179A|GREEN BITTY LIGHT...|       1|     1.25|     17297|United Kingdom|2011-11-22 14:43:00|  424523|       2011|          11|\n",
      "|  20250511015430109|20250511015430109...|            500869|               2011/11|f5bd4b1b-d6ef-422...|   576388|    21790|  VINTAGE SNAP CARDS|      12|     0.85|     17510|United Kingdom|2011-11-15 10:00:00|  500869|       2011|          11|\n",
      "|  20250511015430109|20250511015430109...|            699945|               2011/11|f5bd4b1b-d6ef-422...|   578067|    84378|SET OF 3 HEART CO...|       2|     2.46|      NULL|United Kingdom|2011-11-22 15:43:00|  699945|       2011|          11|\n",
      "|  20250511015430109|20250511015430109...|            178394|               2011/11|f5bd4b1b-d6ef-422...|   575973|    23570|TRADITIONAL PICK ...|      12|     1.25|      NULL|          EIRE|2011-11-13 13:03:00|  178394|       2011|          11|\n",
      "|  20250511015430109|20250511015430109...|            477259|               2011/11|f5bd4b1b-d6ef-422...|   576771|    22383|LUNCH BAG SUKI DE...|      10|     1.65|     13285|United Kingdom|2011-11-16 13:19:00|  477259|       2011|          11|\n",
      "|  20250511015430109|20250511015430109...|            100038|               2011/11|f5bd4b1b-d6ef-422...|   578129|    21264|WHITE GOOSE FEATH...|      12|     1.95|     13502|United Kingdom|2011-11-23 10:39:00|  100038|       2011|          11|\n",
      "|  20250511015430109|20250511015430109...|            144483|               2011/11|f5bd4b1b-d6ef-422...|   573891|    23231|WRAP  VINTAGE DOILY |      25|     0.42|     12682|        France|2011-11-01 13:56:00|  144483|       2011|          11|\n",
      "|  20250511015430109|20250511015430109...|            559645|               2011/11|f5bd4b1b-d6ef-422...|   573905|    22507|MEMO BOARD RETROS...|       1|     4.95|     16971|United Kingdom|2011-11-01 15:06:00|  559645|       2011|          11|\n",
      "|  20250511015430109|20250511015430109...|            142619|               2011/11|f5bd4b1b-d6ef-422...|   575074|    23302|KNEELING MAT HOUS...|       4|     1.65|     15356|United Kingdom|2011-11-08 13:11:00|  142619|       2011|          11|\n",
      "|  20250511015430109|20250511015430109...|            441007|               2011/11|f5bd4b1b-d6ef-422...|   578028|    22274|FELTCRAFT DOLL EMILY|       1|     2.95|     17371|United Kingdom|2011-11-22 13:30:00|  441007|       2011|          11|\n",
      "|  20250511015430109|20250511015430109...|            995701|               2011/11|f5bd4b1b-d6ef-422...|   576189|    22952|60 CAKE CASES VIN...|       3|     0.55|     14684|United Kingdom|2011-11-14 11:33:00|  995701|       2011|          11|\n",
      "|  20250511015430109|20250511015430109...|            644487|               2011/11|f5bd4b1b-d6ef-422...|   574740|    22315|200 RED + WHITE B...|      12|     1.25|     12357|   Switzerland|2011-11-06 16:07:00|  644487|       2011|          11|\n",
      "|  20250511015430109|20250511015430109...|            320501|               2011/11|f5bd4b1b-d6ef-422...|   579196|   85039C|S/4 BLACK MINI RO...|       1|     1.63|     14096|United Kingdom|2011-11-28 15:54:00|  320501|       2011|          11|\n",
      "|  20250511015430109|20250511015430109...|            941479|               2011/11|f5bd4b1b-d6ef-422...|   577321|    22078|RIBBON REEL LACE ...|       1|      2.1|     15311|United Kingdom|2011-11-18 13:44:00|  941479|       2011|          11|\n",
      "|  20250511015430109|20250511015430109...|            376921|               2011/11|f5bd4b1b-d6ef-422...|   577768|    23495|SET OF 3 PANTRY W...|       1|     2.46|      NULL|United Kingdom|2011-11-21 15:18:00|  376921|       2011|          11|\n",
      "|  20250511015430109|20250511015430109...|            792620|               2011/11|f5bd4b1b-d6ef-422...|   574619|    20717|STRAWBERRY SHOPPE...|       3|     1.25|     15952|United Kingdom|2011-11-06 11:18:00|  792620|       2011|          11|\n",
      "|  20250511015430109|20250511015430109...|            636283|               2011/11|f5bd4b1b-d6ef-422...|   574227|    23355|HOT WATER BOTTLE ...|       4|     4.95|     16992|United Kingdom|2011-11-03 12:18:00|  636283|       2011|          11|\n",
      "|  20250511015430109|20250511015430109...|            911459|               2011/11|f5bd4b1b-d6ef-422...|   574561|   85032A|ROMANTIC IMAGES G...|       1|     1.63|      NULL|United Kingdom|2011-11-04 15:52:00|  911459|       2011|          11|\n",
      "+-------------------+--------------------+------------------+----------------------+--------------------+---------+---------+--------------------+--------+---------+----------+--------------+-------------------+--------+-----------+------------+\n",
      "only showing top 20 rows\n",
      "\n"
     ]
    }
   ],
   "source": [
    "hudi_df.show()"
   ]
  },
  {
   "cell_type": "code",
   "execution_count": null,
   "id": "85fa3558-af13-46e2-a3e7-2d957462a27e",
   "metadata": {},
   "outputs": [],
   "source": []
  }
 ],
 "metadata": {
  "kernelspec": {
   "display_name": "Python 3 (ipykernel)",
   "language": "python",
   "name": "python3"
  },
  "language_info": {
   "codemirror_mode": {
    "name": "ipython",
    "version": 3
   },
   "file_extension": ".py",
   "mimetype": "text/x-python",
   "name": "python",
   "nbconvert_exporter": "python",
   "pygments_lexer": "ipython3",
   "version": "3.11.12"
  }
 },
 "nbformat": 4,
 "nbformat_minor": 5
}
